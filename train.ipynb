{
 "cells": [
  {
   "cell_type": "markdown",
   "metadata": {},
   "source": [
    "# Stats COurse 2023 BLAB LA"
   ]
  },
  {
   "cell_type": "code",
   "execution_count": 18,
   "metadata": {},
   "outputs": [],
   "source": [
    "import pandas as pd\n",
    "import numpy as np\n",
    "from sklearn.model_selection import train_test_split\n",
    "from sklearn.preprocessing import OneHotEncoder\n",
    "from sklearn.compose import ColumnTransformer\n",
    "from sklearn.linear_model import LogisticRegression\n",
    "from sklearn.metrics import accuracy_score, precision_score, recall_score, f1_score\n",
    "from sklearn.tree import DecisionTreeClassifier\n",
    "import xgboost as xgb\n",
    "from sklearn.model_selection import GridSearchCV"
   ]
  },
  {
   "cell_type": "markdown",
   "metadata": {},
   "source": [
    "### Load the dataset"
   ]
  },
  {
   "cell_type": "code",
   "execution_count": 2,
   "metadata": {},
   "outputs": [],
   "source": [
    "df = pd.read_csv('data/train_test_2023.csv', encoding='ISO-8859-1')"
   ]
  },
  {
   "cell_type": "markdown",
   "metadata": {},
   "source": [
    "### Preprocess the dataset"
   ]
  },
  {
   "cell_type": "code",
   "execution_count": 8,
   "metadata": {},
   "outputs": [],
   "source": [
    "def preprocess_data(df):\n",
    "    \"\"\"\n",
    "    Preprocess the dataset for XGBoost model training.\n",
    "    \n",
    "    This function encodes categorical variables using one-hot encoding, \n",
    "    then splits the dataset into features (X) and target (y), \n",
    "    and further into training and testing sets.\n",
    "\n",
    "    :param df: Pandas DataFrame containing the dataset.\n",
    "    :return: Tuple of (X_train, X_test, y_train, y_test)\n",
    "    \"\"\"\n",
    "    # Renaming the target column for clarity\n",
    "    df.rename(columns={'': 'target'}, inplace=True)\n",
    "\n",
    "    # Identifying categorical and numerical columns\n",
    "    categorical_cols = df.select_dtypes(include=['object']).columns\n",
    "    categorical_cols = categorical_cols.drop('target')  # Exclude the target column\n",
    "    numerical_cols = df.select_dtypes(include=['int64', 'float64']).columns\n",
    "\n",
    "    # Defining the transformer for categorical data\n",
    "    transformer = ColumnTransformer(\n",
    "        transformers=[\n",
    "            ('cat', OneHotEncoder(handle_unknown='ignore'), categorical_cols)\n",
    "        ],\n",
    "        remainder='passthrough'\n",
    "    )\n",
    "\n",
    "    # Splitting the dataset into features and target\n",
    "    X = df.drop('target', axis=1)\n",
    "    y = df['target']\n",
    "    \n",
    "    # Binary encoding the target column\n",
    "    y = np.where(y == 'yes', 1, 0)\n",
    "\n",
    "    # Applying transformation to the features\n",
    "    X_transformed = transformer.fit_transform(X)\n",
    "\n",
    "    # Splitting the dataset into training and testing sets\n",
    "    X_train, X_test, y_train, y_test = train_test_split(X_transformed, y, test_size=0.2, random_state=42)\n",
    "\n",
    "    return X_train, X_test, y_train, y_test\n"
   ]
  },
  {
   "cell_type": "code",
   "execution_count": 9,
   "metadata": {},
   "outputs": [],
   "source": [
    "X_train, X_test, y_train, y_test = preprocess_data(df)"
   ]
  },
  {
   "cell_type": "markdown",
   "metadata": {},
   "source": [
    "### Logistic regression"
   ]
  },
  {
   "cell_type": "code",
   "execution_count": 12,
   "metadata": {},
   "outputs": [],
   "source": [
    "def train_logistic_regression(X_train, y_train, X_test, y_test):\n",
    "    \"\"\"\n",
    "    Train a logistic regression model and evaluate it on the test data.\n",
    "\n",
    "    :param X_train: Training features.\n",
    "    :param y_train: Training target.\n",
    "    :param X_test: Testing features.\n",
    "    :param y_test: Testing target.\n",
    "    :return: A tuple containing the trained model and a dictionary of evaluation metrics.\n",
    "    \"\"\"\n",
    "    # Initializing the logistic regression model\n",
    "    model = LogisticRegression(max_iter=1000)  # Increasing max_iter for convergence\n",
    "\n",
    "    # Training the model\n",
    "    model.fit(X_train, y_train)\n",
    "\n",
    "    # Making predictions on the test set\n",
    "    y_pred = model.predict(X_test)\n",
    "\n",
    "    # Calculating evaluation metrics\n",
    "    metrics = {\n",
    "        'accuracy': accuracy_score(y_test, y_pred),\n",
    "        'precision': precision_score(y_test, y_pred, average='binary', pos_label=1),  # Replace 'your_positive_class'\n",
    "        'recall': recall_score(y_test, y_pred, average='binary', pos_label=1),  # Replace 'your_positive_class'\n",
    "        'f1_score': f1_score(y_test, y_pred, average='binary', pos_label= 1)  # Replace 'your_positive_class'\n",
    "    }\n",
    "\n",
    "    return model, metrics\n",
    "\n"
   ]
  },
  {
   "cell_type": "code",
   "execution_count": 13,
   "metadata": {},
   "outputs": [
    {
     "name": "stdout",
     "output_type": "stream",
     "text": [
      "{'accuracy': 0.7895, 'precision': 0.711764705882353, 'recall': 0.24543610547667344, 'f1_score': 0.36500754147812975}\n"
     ]
    }
   ],
   "source": [
    "model, metrics = train_logistic_regression(X_train, y_train, X_test, y_test)\n",
    "print(metrics)"
   ]
  },
  {
   "cell_type": "code",
   "execution_count": 23,
   "metadata": {},
   "outputs": [
    {
     "data": {
      "image/png": "[encoded data removed]",
      "text/plain": [
       "<Figure size 640x480 with 1 Axes>"
      ]
     },
     "metadata": {},
     "output_type": "display_data"
    }
   ],
   "source": [
    "# Plot AUC and ROC  \n",
    "from sklearn.metrics import roc_curve, auc\n",
    "import matplotlib.pyplot as plt\n",
    "y_pred_proba = model.predict_proba(X_test)[::,1]\n",
    "fpr, tpr, _ = roc_curve(y_test,  y_pred_proba)\n",
    "auc = auc(fpr,tpr)\n",
    "plt.plot(fpr,tpr,label=\"auc=\"+str(auc))\n",
    "plt.legend(loc=4)\n",
    "plt.show()\n",
    "\n"
   ]
  },
  {
   "cell_type": "markdown",
   "metadata": {},
   "source": [
    "### Classification tree"
   ]
  },
  {
   "cell_type": "code",
   "execution_count": 14,
   "metadata": {},
   "outputs": [],
   "source": [
    "def train_decision_tree(X_train, y_train, X_test, y_test):\n",
    "    \"\"\"\n",
    "    Train a decision tree classifier and evaluate it on the test data.\n",
    "\n",
    "    :param X_train: Training features.\n",
    "    :param y_train: Training target.\n",
    "    :param X_test: Testing features.\n",
    "    :param y_test: Testing target.\n",
    "    :return: A tuple containing the trained model and a dictionary of evaluation metrics.\n",
    "    \"\"\"\n",
    "    # Initializing the decision tree classifier\n",
    "    model = DecisionTreeClassifier()\n",
    "\n",
    "    # Training the model\n",
    "    model.fit(X_train, y_train)\n",
    "\n",
    "    # Making predictions on the test set\n",
    "    y_pred = model.predict(X_test)\n",
    "\n",
    "    # Calculating evaluation metrics\n",
    "    metrics = {\n",
    "        'accuracy': accuracy_score(y_test, y_pred),\n",
    "        'precision': precision_score(y_test, y_pred, average='binary', pos_label=1),  # Replace 'your_positive_class'\n",
    "        'recall': recall_score(y_test, y_pred, average='binary', pos_label=1),  # Replace 'your_positive_class'\n",
    "        'f1_score': f1_score(y_test, y_pred, average='binary', pos_label=1)  # Replace 'your_positive_class'\n",
    "    }\n",
    "\n",
    "    return model, metrics\n"
   ]
  },
  {
   "cell_type": "code",
   "execution_count": 17,
   "metadata": {},
   "outputs": [
    {
     "name": "stdout",
     "output_type": "stream",
     "text": [
      "{'accuracy': 0.7885, 'precision': 0.5697211155378487, 'recall': 0.5801217038539553, 'f1_score': 0.5748743718592965}\n"
     ]
    }
   ],
   "source": [
    "tree_model, tree_metrics = train_decision_tree(X_train, y_train, X_test, y_test)\n",
    "print(tree_metrics)"
   ]
  },
  {
   "cell_type": "code",
   "execution_count": 24,
   "metadata": {},
   "outputs": [
    {
     "data": {
      "image/png": "[encoded data removed]",
      "text/plain": [
       "<Figure size 640x480 with 1 Axes>"
      ]
     },
     "metadata": {},
     "output_type": "display_data"
    }
   ],
   "source": [
    "# Plot AUC and ROC\n",
    "from sklearn.metrics import roc_curve, auc\n",
    "import matplotlib.pyplot as plt\n",
    "y_pred_proba = tree_model.predict_proba(X_test)[::,1]\n",
    "fpr, tpr, _ = roc_curve(y_test,  y_pred_proba)\n",
    "auc = auc(fpr,tpr)\n",
    "plt.plot(fpr,tpr,label=\"auc=\"+str(auc))\n",
    "plt.legend(loc=4)\n",
    "plt.show()\n",
    "    "
   ]
  },
  {
   "cell_type": "markdown",
   "metadata": {},
   "source": [
    "### XGBoost"
   ]
  },
  {
   "cell_type": "code",
   "execution_count": 21,
   "metadata": {},
   "outputs": [],
   "source": [
    "def train_xgboost_with_gridsearch(X_train, y_train, X_test, y_test):\n",
    "    \"\"\"\n",
    "    Train an XGBoost model with hyperparameter tuning using grid search and evaluate it on the test data.\n",
    "\n",
    "    :param X_train: Training features.\n",
    "    :param y_train: Training target.\n",
    "    :param X_test: Testing features.\n",
    "    :param y_test: Testing target.\n",
    "    :return: A tuple containing the best model from grid search and a dictionary of evaluation metrics.\n",
    "    \"\"\"\n",
    "    # Define the parameter grid\n",
    "    param_grid = {\n",
    "        'n_estimators': [100, 200, 300],\n",
    "        'learning_rate': [0.01, 0.1, 0.2],\n",
    "        'max_depth': [3, 4, 5]\n",
    "    }\n",
    "\n",
    "    # Initializing the XGBoost classifier\n",
    "    xgb_model = xgb.XGBClassifier(use_label_encoder=False, eval_metric='logloss')\n",
    "\n",
    "    # Setting up GridSearchCV\n",
    "    grid_search = GridSearchCV(estimator=xgb_model, param_grid=param_grid, cv=3, n_jobs=-1, verbose=2)\n",
    "\n",
    "    # Performing grid search\n",
    "    grid_search.fit(X_train, y_train)\n",
    "\n",
    "    # Best model\n",
    "    best_model = grid_search.best_estimator_\n",
    "\n",
    "    # Making predictions on the test set with the best model\n",
    "    y_pred = best_model.predict(X_test)\n",
    "\n",
    "    # Calculating evaluation metrics\n",
    "    metrics = {\n",
    "        'accuracy': accuracy_score(y_test, y_pred),\n",
    "        'precision': precision_score(y_test, y_pred, average='binary', pos_label=1),  # Replace 'your_positive_class'\n",
    "        'recall': recall_score(y_test, y_pred, average='binary', pos_label=1),  # Replace 'your_positive_class'\n",
    "        'f1_score': f1_score(y_test, y_pred, average='binary', pos_label=1)  # Replace 'your_positive_class'\n",
    "    }\n",
    "\n",
    "    return best_model, metrics\n"
   ]
  },
  {
   "cell_type": "code",
   "execution_count": 22,
   "metadata": {},
   "outputs": [
    {
     "name": "stderr",
     "output_type": "stream",
     "text": [
      "/opt/anaconda3/envs/TP1/lib/python3.10/site-packages/xgboost/sklearn.py:1421: UserWarning: `use_label_encoder` is deprecated in 1.7.0.\n",
      "  warnings.warn(\"`use_label_encoder` is deprecated in 1.7.0.\")\n",
      "/opt/anaconda3/envs/TP1/lib/python3.10/site-packages/xgboost/sklearn.py:1421: UserWarning: `use_label_encoder` is deprecated in 1.7.0.\n",
      "  warnings.warn(\"`use_label_encoder` is deprecated in 1.7.0.\")\n",
      "/opt/anaconda3/envs/TP1/lib/python3.10/site-packages/xgboost/sklearn.py:1421: UserWarning: `use_label_encoder` is deprecated in 1.7.0.\n",
      "  warnings.warn(\"`use_label_encoder` is deprecated in 1.7.0.\")\n"
     ]
    },
    {
     "name": "stdout",
     "output_type": "stream",
     "text": [
      "Fitting 3 folds for each of 27 candidates, totalling 81 fits\n"
     ]
    },
    {
     "name": "stdout",
     "output_type": "stream",
     "text": [
      "[CV] END ..learning_rate=0.01, max_depth=3, n_estimators=100; total time=   2.2s\n",
      "[CV] END ..learning_rate=0.01, max_depth=3, n_estimators=100; total time=   2.2s\n",
      "[CV] END ..learning_rate=0.01, max_depth=3, n_estimators=100; total time=   2.3s\n",
      "[CV] END ..learning_rate=0.01, max_depth=3, n_estimators=200; total time=   3.7s\n",
      "[CV] END ..learning_rate=0.01, max_depth=3, n_estimators=200; total time=   6.2s\n",
      "[CV] END ..learning_rate=0.01, max_depth=3, n_estimators=200; total time=   6.2s\n",
      "[CV] END ..learning_rate=0.01, max_depth=3, n_estimators=300; total time=   8.1s\n",
      "[CV] END ..learning_rate=0.01, max_depth=4, n_estimators=100; total time=   2.1s\n",
      "[CV] END ..learning_rate=0.01, max_depth=3, n_estimators=300; total time=   8.3s\n",
      "[CV] END ..learning_rate=0.01, max_depth=4, n_estimators=100; total time=   2.0s\n",
      "[CV] END ..learning_rate=0.01, max_depth=4, n_estimators=100; total time=   2.0s\n",
      "[CV] END ..learning_rate=0.01, max_depth=3, n_estimators=300; total time=   4.6s\n",
      "[CV] END ..learning_rate=0.01, max_depth=4, n_estimators=200; total time=   3.0s\n",
      "[CV] END ..learning_rate=0.01, max_depth=4, n_estimators=200; total time=   3.0s\n",
      "[CV] END ..learning_rate=0.01, max_depth=4, n_estimators=200; total time=   2.9s\n",
      "[CV] END ..learning_rate=0.01, max_depth=4, n_estimators=300; total time=   4.3s\n",
      "[CV] END ..learning_rate=0.01, max_depth=5, n_estimators=100; total time=   1.8s\n",
      "[CV] END ..learning_rate=0.01, max_depth=5, n_estimators=100; total time=   3.1s\n",
      "[CV] END ..learning_rate=0.01, max_depth=5, n_estimators=100; total time=   3.1s\n",
      "[CV] END ..learning_rate=0.01, max_depth=4, n_estimators=300; total time=   5.7s\n",
      "[CV] END ..learning_rate=0.01, max_depth=4, n_estimators=300; total time=   5.8s\n",
      "[CV] END ..learning_rate=0.01, max_depth=5, n_estimators=200; total time=   3.6s\n",
      "[CV] END ..learning_rate=0.01, max_depth=5, n_estimators=200; total time=   3.5s\n",
      "[CV] END ..learning_rate=0.01, max_depth=5, n_estimators=200; total time=   3.5s\n",
      "[CV] END ...learning_rate=0.1, max_depth=3, n_estimators=100; total time=   1.3s\n",
      "[CV] END ..learning_rate=0.01, max_depth=5, n_estimators=300; total time=   5.5s\n",
      "[CV] END ...learning_rate=0.1, max_depth=3, n_estimators=100; total time=   1.1s\n",
      "[CV] END ...learning_rate=0.1, max_depth=3, n_estimators=100; total time=   1.2s\n",
      "[CV] END ...learning_rate=0.1, max_depth=3, n_estimators=200; total time=   2.6s\n",
      "[CV] END ..learning_rate=0.01, max_depth=5, n_estimators=300; total time=   6.0s\n",
      "[CV] END ..learning_rate=0.01, max_depth=5, n_estimators=300; total time=   6.0s\n",
      "[CV] END ...learning_rate=0.1, max_depth=3, n_estimators=200; total time=   2.6s\n",
      "[CV] END ...learning_rate=0.1, max_depth=3, n_estimators=200; total time=   2.2s\n",
      "[CV] END ...learning_rate=0.1, max_depth=4, n_estimators=100; total time=   1.6s\n",
      "[CV] END ...learning_rate=0.1, max_depth=3, n_estimators=300; total time=   3.6s\n",
      "[CV] END ...learning_rate=0.1, max_depth=3, n_estimators=300; total time=   3.7s\n",
      "[CV] END ...learning_rate=0.1, max_depth=3, n_estimators=300; total time=   3.7s\n",
      "[CV] END ...learning_rate=0.1, max_depth=4, n_estimators=100; total time=   2.0s\n",
      "[CV] END ...learning_rate=0.1, max_depth=4, n_estimators=100; total time=   1.8s\n",
      "[CV] END ...learning_rate=0.1, max_depth=4, n_estimators=200; total time=   3.1s\n",
      "[CV] END ...learning_rate=0.1, max_depth=4, n_estimators=200; total time=   2.9s\n",
      "[CV] END ...learning_rate=0.1, max_depth=4, n_estimators=200; total time=   3.0s\n",
      "[CV] END ...learning_rate=0.1, max_depth=5, n_estimators=100; total time=   1.8s\n",
      "[CV] END ...learning_rate=0.1, max_depth=4, n_estimators=300; total time=   4.6s\n",
      "[CV] END ...learning_rate=0.1, max_depth=4, n_estimators=300; total time=   4.5s\n",
      "[CV] END ...learning_rate=0.1, max_depth=4, n_estimators=300; total time=   4.4s\n",
      "[CV] END ...learning_rate=0.1, max_depth=5, n_estimators=100; total time=   1.7s\n",
      "[CV] END ...learning_rate=0.1, max_depth=5, n_estimators=100; total time=   1.6s\n",
      "[CV] END ...learning_rate=0.1, max_depth=5, n_estimators=200; total time=   4.0s\n",
      "[CV] END ...learning_rate=0.1, max_depth=5, n_estimators=200; total time=   4.1s\n",
      "[CV] END ...learning_rate=0.1, max_depth=5, n_estimators=200; total time=   4.1s\n",
      "[CV] END ...learning_rate=0.2, max_depth=3, n_estimators=100; total time=   1.2s\n",
      "[CV] END ...learning_rate=0.1, max_depth=5, n_estimators=300; total time=   6.0s\n",
      "[CV] END ...learning_rate=0.2, max_depth=3, n_estimators=100; total time=   1.3s\n",
      "[CV] END ...learning_rate=0.2, max_depth=3, n_estimators=100; total time=   1.2s\n",
      "[CV] END ...learning_rate=0.2, max_depth=3, n_estimators=200; total time=   3.7s\n",
      "[CV] END ...learning_rate=0.1, max_depth=5, n_estimators=300; total time=   7.3s\n",
      "[CV] END ...learning_rate=0.1, max_depth=5, n_estimators=300; total time=   7.3s\n",
      "[CV] END ...learning_rate=0.2, max_depth=3, n_estimators=200; total time=   4.9s\n",
      "[CV] END ...learning_rate=0.2, max_depth=3, n_estimators=200; total time=   7.3s\n",
      "[CV] END ...learning_rate=0.2, max_depth=3, n_estimators=300; total time=   8.3s\n",
      "[CV] END ...learning_rate=0.2, max_depth=3, n_estimators=300; total time=   8.2s\n",
      "[CV] END ...learning_rate=0.2, max_depth=4, n_estimators=100; total time=   1.9s\n",
      "[CV] END ...learning_rate=0.2, max_depth=3, n_estimators=300; total time=   7.6s\n",
      "[CV] END ...learning_rate=0.2, max_depth=4, n_estimators=100; total time=   1.8s\n",
      "[CV] END ...learning_rate=0.2, max_depth=4, n_estimators=100; total time=   1.8s\n",
      "[CV] END ...learning_rate=0.2, max_depth=4, n_estimators=200; total time=   3.3s\n",
      "[CV] END ...learning_rate=0.2, max_depth=4, n_estimators=200; total time=   3.3s\n",
      "[CV] END ...learning_rate=0.2, max_depth=4, n_estimators=200; total time=   3.2s\n",
      "[CV] END ...learning_rate=0.2, max_depth=4, n_estimators=300; total time=   5.6s\n",
      "[CV] END ...learning_rate=0.2, max_depth=5, n_estimators=100; total time=   2.7s\n",
      "[CV] END ...learning_rate=0.2, max_depth=4, n_estimators=300; total time=   5.8s\n",
      "[CV] END ...learning_rate=0.2, max_depth=4, n_estimators=300; total time=   5.6s\n",
      "[CV] END ...learning_rate=0.2, max_depth=5, n_estimators=100; total time=   2.1s\n",
      "[CV] END ...learning_rate=0.2, max_depth=5, n_estimators=100; total time=   2.0s\n",
      "[CV] END ...learning_rate=0.2, max_depth=5, n_estimators=200; total time=   4.1s\n",
      "[CV] END ...learning_rate=0.2, max_depth=5, n_estimators=200; total time=   4.1s\n",
      "[CV] END ...learning_rate=0.2, max_depth=5, n_estimators=200; total time=   4.1s\n",
      "[CV] END ...learning_rate=0.2, max_depth=5, n_estimators=300; total time=   5.5s\n",
      "[CV] END ...learning_rate=0.2, max_depth=5, n_estimators=300; total time=   3.8s\n",
      "[CV] END ...learning_rate=0.2, max_depth=5, n_estimators=300; total time=   3.9s\n",
      "Best Model Parameters: {'objective': 'binary:logistic', 'use_label_encoder': False, 'base_score': 0.5, 'booster': 'gbtree', 'callbacks': None, 'colsample_bylevel': 1, 'colsample_bynode': 1, 'colsample_bytree': 1, 'early_stopping_rounds': None, 'enable_categorical': False, 'eval_metric': 'logloss', 'feature_types': None, 'gamma': 0, 'gpu_id': -1, 'grow_policy': 'depthwise', 'importance_type': None, 'interaction_constraints': '', 'learning_rate': 0.1, 'max_bin': 256, 'max_cat_threshold': 64, 'max_cat_to_onehot': 4, 'max_delta_step': 0, 'max_depth': 3, 'max_leaves': 0, 'min_child_weight': 1, 'missing': nan, 'monotone_constraints': '()', 'n_estimators': 300, 'n_jobs': 0, 'num_parallel_tree': 1, 'predictor': 'auto', 'random_state': 0, 'reg_alpha': 0, 'reg_lambda': 1, 'sampling_method': 'uniform', 'scale_pos_weight': 1, 'subsample': 1, 'tree_method': 'exact', 'validate_parameters': 1, 'verbosity': None}\n",
      "Evaluation Metrics: {'accuracy': 0.853, 'precision': 0.7481296758104738, 'recall': 0.6085192697768763, 'f1_score': 0.6711409395973156}\n"
     ]
    }
   ],
   "source": [
    "# Example usage (replace with your actual data):\n",
    "best_xgb_model, xgb_metrics = train_xgboost_with_gridsearch(X_train, y_train, X_test, y_test)\n",
    "print(\"Best Model Parameters:\", best_xgb_model.get_params())\n",
    "print(\"Evaluation Metrics:\", xgb_metrics)\n"
   ]
  },
  {
   "cell_type": "code",
   "execution_count": 25,
   "metadata": {},
   "outputs": [
    {
     "data": {
      "image/png": "[encoded data removed]",
      "text/plain": [
       "<Figure size 640x480 with 1 Axes>"
      ]
     },
     "metadata": {},
     "output_type": "display_data"
    }
   ],
   "source": [
    "# Plot AUC and ROC\n",
    "from sklearn.metrics import roc_curve, auc\n",
    "import matplotlib.pyplot as plt\n",
    "y_pred_proba = best_xgb_model.predict_proba(X_test)[::,1]\n",
    "fpr, tpr, _ = roc_curve(y_test,  y_pred_proba)\n",
    "auc = auc(fpr,tpr)\n",
    "plt.plot(fpr,tpr,label=\"auc=\"+str(auc))\n",
    "plt.legend(loc=4)\n",
    "plt.show()\n"
   ]
  }
 ],
 "metadata": {
  "kernelspec": {
   "display_name": "TP1",
   "language": "python",
   "name": "python3"
  },
  "language_info": {
   "codemirror_mode": {
    "name": "ipython",
    "version": 3
   },
   "file_extension": ".py",
   "mimetype": "text/x-python",
   "name": "python",
   "nbconvert_exporter": "python",
   "pygments_lexer": "ipython3",
   "version": "3.10.6"
  }
 },
 "nbformat": 4,
 "nbformat_minor": 2
}
